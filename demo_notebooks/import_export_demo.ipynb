{
 "cells": [
  {
   "cell_type": "code",
   "execution_count": 7,
   "metadata": {},
   "outputs": [
    {
     "name": "stdout",
     "output_type": "stream",
     "text": [
      "The autoreload extension is already loaded. To reload it, use:\n",
      "  %reload_ext autoreload\n"
     ]
    }
   ],
   "source": [
    "%load_ext autoreload\n",
    "%autoreload 2\n",
    "from pathlib import Path\n",
    "from math import pi as π\n",
    "import numpy as np\n",
    "import pandas as pd\n",
    "from astropy import units as u\n",
    "from freqandsee.freqandsee import Signal"
   ]
  },
  {
   "cell_type": "code",
   "execution_count": 8,
   "metadata": {},
   "outputs": [
    {
     "data": {
      "text/plain": [
       "Signal name: 'Aether sensor' V(kHz⁻¹). n=1.00e+02 sampling points, fs=100.0 kHz, RMS=7.07e-01 V."
      ]
     },
     "execution_count": 8,
     "metadata": {},
     "output_type": "execute_result"
    }
   ],
   "source": [
    "n = int(1e6)\n",
    "fs = 100 * u.kHz\n",
    "ts = 1 / fs\n",
    "time = np.arange(0, n + 1) * ts\n",
    "time_short = time[:100]\n",
    "fc = 3000 * u.hertz\n",
    "wc = 2 * π * fc * u.rad\n",
    "y = Signal(\n",
    "    x=time_short,\n",
    "    y=np.sin(wc * time_short) * u.volt,\n",
    "    name=\"Aether sensor\",\n",
    "    x_name=\"t\",\n",
    "    y_name=\"Voltage\",\n",
    ")\n",
    "y"
   ]
  },
  {
   "cell_type": "markdown",
   "metadata": {},
   "source": [
    "Save y signal to a file. This will save the data together with a header with\n",
    "the units."
   ]
  },
  {
   "cell_type": "code",
   "execution_count": 9,
   "metadata": {},
   "outputs": [],
   "source": [
    "y.to_csv(Path(\"aether_saved.csv\"))"
   ]
  },
  {
   "cell_type": "markdown",
   "metadata": {},
   "source": [
    "Import the same file. This will read the header and use that to set the units"
   ]
  },
  {
   "cell_type": "code",
   "execution_count": 10,
   "metadata": {},
   "outputs": [
    {
     "data": {
      "text/plain": [
       "Signal name: 'aether' V(kHz⁻¹). n=1.00e+02 sampling points, fs=100.0 kHz, RMS=7.07e-01 V."
      ]
     },
     "execution_count": 10,
     "metadata": {},
     "output_type": "execute_result"
    }
   ],
   "source": [
    "z1 = Signal.from_csv(Path(\"aether.csv\"))\n",
    "z1"
   ]
  },
  {
   "cell_type": "markdown",
   "metadata": {},
   "source": [
    "Import a file with the same data but without the header. The resulting signal will have unitless `x` and `y`"
   ]
  },
  {
   "cell_type": "code",
   "execution_count": 11,
   "metadata": {},
   "outputs": [
    {
     "data": {
      "text/plain": [
       "Signal name: 'aether_no_header' (). n=9.90e+01 sampling points, fs=100.0, RMS=7.11e-01."
      ]
     },
     "execution_count": 11,
     "metadata": {},
     "output_type": "execute_result"
    }
   ],
   "source": [
    "z2 = Signal.from_csv(Path(\"aether_no_header.csv\"))\n",
    "z2"
   ]
  },
  {
   "cell_type": "markdown",
   "metadata": {},
   "source": [
    "Import a file with the same data but without the header, with units specified."
   ]
  },
  {
   "cell_type": "code",
   "execution_count": 12,
   "metadata": {},
   "outputs": [
    {
     "data": {
      "text/plain": [
       "Signal name: 'aether_no_header' V(s). n=9.90e+01 sampling points, fs=100.0 1 / s, RMS=7.11e-01 V."
      ]
     },
     "execution_count": 12,
     "metadata": {},
     "output_type": "execute_result"
    }
   ],
   "source": [
    "z3 = Signal.from_csv(Path(\"aether_no_header.csv\"), x_unit=u.s, y_unit=u.volt)\n",
    "z3"
   ]
  }
 ],
 "metadata": {
  "kernelspec": {
   "display_name": "myenv",
   "language": "python",
   "name": "python3"
  },
  "language_info": {
   "codemirror_mode": {
    "name": "ipython",
    "version": 3
   },
   "file_extension": ".py",
   "mimetype": "text/x-python",
   "name": "python",
   "nbconvert_exporter": "python",
   "pygments_lexer": "ipython3",
   "version": "3.12.9"
  }
 },
 "nbformat": 4,
 "nbformat_minor": 2
}
